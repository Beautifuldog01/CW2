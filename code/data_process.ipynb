{
 "cells": [
  {
   "cell_type": "code",
   "execution_count": 10,
   "metadata": {},
   "outputs": [],
   "source": [
    "import numpy as np\n",
    "import pandas as pd\n",
    "import os"
   ]
  },
  {
   "cell_type": "code",
   "execution_count": 11,
   "metadata": {},
   "outputs": [],
   "source": [
    "data_dir = os.path.join(os.getcwd(), 'data')\n",
    "\n",
    "fl_costs_dir = os.path.join(data_dir, 'flight_costs.csv')\n",
    "tr_costs_dir = os.path.join(data_dir, 'train_costs.csv')\n",
    "fl_time_dir = os.path.join(data_dir, 'flight_time.csv')\n",
    "tr_time_dir = os.path.join(data_dir, 'train_time.csv')"
   ]
  },
  {
   "cell_type": "code",
   "execution_count": 12,
   "metadata": {},
   "outputs": [],
   "source": [
    "def get_lower_half_matrix(file_dir):\n",
    "    file_dir_csv = pd.read_csv(file_dir, header=None)\n",
    "    file_dir_csv.fillna(1e9, inplace=True)\n",
    "    file_dir_lower_half: np.ndarray[np.float64] = file_dir_csv.to_numpy()\n",
    "    return file_dir_lower_half\n"
   ]
  },
  {
   "cell_type": "code",
   "execution_count": 13,
   "metadata": {},
   "outputs": [],
   "source": [
    "flight_costs_lower_half = get_lower_half_matrix(fl_costs_dir)"
   ]
  },
  {
   "cell_type": "code",
   "execution_count": 14,
   "metadata": {},
   "outputs": [
    {
     "data": {
      "text/plain": [
       "array([[0.00e+00, 1.00e+09, 1.00e+09, 1.00e+09],\n",
       "       [1.23e+02, 0.00e+00, 1.00e+09, 1.00e+09],\n",
       "       [1.00e+09, 3.21e+02, 0.00e+00, 1.00e+09],\n",
       "       [2.40e+01, 1.00e+09, 3.10e+01, 0.00e+00]])"
      ]
     },
     "execution_count": 14,
     "metadata": {},
     "output_type": "execute_result"
    }
   ],
   "source": [
    "flight_costs_lower_half"
   ]
  },
  {
   "cell_type": "code",
   "execution_count": 15,
   "metadata": {},
   "outputs": [],
   "source": [
    "def complete_symmetric_matrix(lower_half: np.ndarray, fill_value: float = 0) -> np.ndarray:\n",
    "    # Create an empty matrix of the same shape as `lower_half`, and fill it with `fill_value`\n",
    "    symmetric_matrix = np.full_like(lower_half, fill_value)\n",
    "    \n",
    "    # Copy the lower half of `lower_half` into the lower half of `symmetric_matrix`\n",
    "    symmetric_matrix[np.tril_indices_from(\n",
    "        symmetric_matrix)] = lower_half[np.tril_indices_from(lower_half)]\n",
    "    \n",
    "    # Copy the upper half of `symmetric_matrix` into the upper half of `symmetric_matrix`\n",
    "    symmetric_matrix += symmetric_matrix.T - np.diag(np.diag(symmetric_matrix))\n",
    "\n",
    "    return symmetric_matrix\n",
    "\n",
    "\n",
    "def preprocess_data(cities: list, flight_costs_lower_half: np.ndarray,  train_costs_lower_half: np.ndarray, flight_time_lower_half: np.ndarray, train_time_lower_half: np.ndarray, fill_value: float = 1e9) -> tuple:\n",
    "    flight_costs = complete_symmetric_matrix(\n",
    "        flight_costs_lower_half, fill_value)\n",
    "    train_costs = complete_symmetric_matrix(train_costs_lower_half, fill_value)\n",
    "    flight_time = complete_symmetric_matrix(flight_time_lower_half, fill_value)\n",
    "    train_time = complete_symmetric_matrix(train_time_lower_half, fill_value)\n",
    "\n",
    "    flight_df = pd.DataFrame(flight_costs, columns=cities, index=cities)\n",
    "    train_df = pd.DataFrame(train_costs, columns=cities, index=cities)\n",
    "    flight_time_df = pd.DataFrame(flight_time, columns=cities, index=cities)\n",
    "    train_time_df = pd.DataFrame(train_time, columns=cities, index=cities)\n",
    "\n",
    "    return flight_df, train_df, flight_time_df, train_time_df\n"
   ]
  },
  {
   "cell_type": "code",
   "execution_count": 16,
   "metadata": {},
   "outputs": [
    {
     "data": {
      "text/plain": [
       "array([[0.00e+00, 1.23e+02, 1.00e+09, 2.40e+01],\n",
       "       [1.23e+02, 0.00e+00, 3.21e+02, 1.00e+09],\n",
       "       [1.00e+09, 3.21e+02, 0.00e+00, 3.10e+01],\n",
       "       [2.40e+01, 1.00e+09, 3.10e+01, 0.00e+00]])"
      ]
     },
     "execution_count": 16,
     "metadata": {},
     "output_type": "execute_result"
    }
   ],
   "source": [
    "complete_symmetric_matrix(flight_costs_lower_half)"
   ]
  }
 ],
 "metadata": {
  "kernelspec": {
   "display_name": "base",
   "language": "python",
   "name": "python3"
  },
  "language_info": {
   "codemirror_mode": {
    "name": "ipython",
    "version": 3
   },
   "file_extension": ".py",
   "mimetype": "text/x-python",
   "name": "python",
   "nbconvert_exporter": "python",
   "pygments_lexer": "ipython3",
   "version": "3.10.9"
  },
  "orig_nbformat": 4
 },
 "nbformat": 4,
 "nbformat_minor": 2
}
