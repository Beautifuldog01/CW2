{
 "cells": [
  {
   "cell_type": "code",
   "execution_count": 8,
   "metadata": {},
   "outputs": [
    {
     "name": "stdout",
     "output_type": "stream",
     "text": [
      "最优路径为: ('北京', '上海', '深圳', '广州', '北京')\n",
      "交通方式为: ['飞机', '飞机', '飞机', '飞机']\n",
      "最低费用为: 2000\n"
     ]
    }
   ],
   "source": [
    "import itertools\n",
    "import pandas as pd\n",
    "\n",
    "def combined_cost_and_transport(path, flight_df, train_df):\n",
    "    total_cost = 0\n",
    "    transport = []\n",
    "    for i in range(len(path) - 1):\n",
    "        flight_cost = flight_df.loc[path[i], path[i + 1]]\n",
    "        train_cost = train_df.loc[path[i], path[i + 1]]\n",
    "        if flight_cost < train_cost:\n",
    "            total_cost += flight_cost\n",
    "            transport.append(\"飞机\")\n",
    "        else:\n",
    "            total_cost += train_cost\n",
    "            transport.append(\"火车\")\n",
    "    return total_cost, transport\n",
    "\n",
    "def tsp_bruteforce_combined(flight_df, train_df, start_city):\n",
    "    cities = flight_df.columns.tolist()\n",
    "    cities.remove(start_city)\n",
    "    min_cost = float('inf')\n",
    "    min_path = None\n",
    "    min_transport = None\n",
    "\n",
    "    for path in itertools.permutations(cities):\n",
    "        path = (start_city,) + path + (start_city,)\n",
    "        cost, transport = combined_cost_and_transport(path, flight_df, train_df)\n",
    "        if cost < min_cost:\n",
    "            min_cost = cost\n",
    "            min_path = path\n",
    "            min_transport = transport\n",
    "\n",
    "    return min_path, min_cost, min_transport\n",
    "\n",
    "# 城市列表\n",
    "cities = ['北京', '上海', '广州', '深圳']\n",
    "\n",
    "# 航班费用数据\n",
    "flight_costs = [\n",
    "    [0, 600, 700, 900],\n",
    "    [600, 0, 500, 600],\n",
    "    [700, 500, 0, 100],\n",
    "    [900, 600, 100, 0]\n",
    "]\n",
    "\n",
    "# 火车费用数据\n",
    "train_costs = [\n",
    "    [0, 1200, 1300, 1500],\n",
    "    [1200, 0, 1000, 1100],\n",
    "    [1300, 1000, 0, 200],\n",
    "    [1500, 1100, 200, 0]\n",
    "]\n",
    "\n",
    "flight_df = pd.DataFrame(flight_costs, columns=cities, index=cities)\n",
    "train_df = pd.DataFrame(train_costs, columns=cities, index=cities)\n",
    "\n",
    "# 计算最优路径及最低费用\n",
    "start_city = '北京'\n",
    "optimal_path, min_cost, optimal_transport = tsp_bruteforce_combined(flight_df, train_df, start_city)\n",
    "\n",
    "print(f\"最优路径为: {optimal_path}\")\n",
    "print(f\"交通方式为: {optimal_transport}\")\n",
    "print(f\"最低费用为: {min_cost}\")\n"
   ]
  }
 ],
 "metadata": {
  "kernelspec": {
   "display_name": "base",
   "language": "python",
   "name": "python3"
  },
  "language_info": {
   "codemirror_mode": {
    "name": "ipython",
    "version": 3
   },
   "file_extension": ".py",
   "mimetype": "text/x-python",
   "name": "python",
   "nbconvert_exporter": "python",
   "pygments_lexer": "ipython3",
   "version": "3.10.9"
  },
  "orig_nbformat": 4
 },
 "nbformat": 4,
 "nbformat_minor": 2
}
